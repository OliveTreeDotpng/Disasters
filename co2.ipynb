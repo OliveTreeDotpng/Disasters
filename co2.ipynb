{
 "cells": [
  {
   "cell_type": "code",
   "execution_count": 4,
   "id": "9cc6bcf1",
   "metadata": {},
   "outputs": [],
   "source": [
    "import pandas as pd\n",
    "\n",
    "# Read the CSV file into a DataFrame\n",
    "df = pd.read_csv('co2_emissions_kt.csv')\n",
    "\n",
    "# Remove the non-countires and regions\n",
    "removed_countries = [\n",
    "    'Africa Eastern and Southern', 'Africa Western and Central', 'Arab World',\n",
    "    'Caribbean small states', 'Central Europe and the Baltics', 'Early-demographic dividend',\n",
    "    'East Asia & Pacific', 'East Asia & Pacific (IDA & IBRD countries)', 'East Asia & Pacific (excluding high income)',\n",
    "    'Euro area', 'Europe & Central Asia', 'Europe & Central Asia (IDA & IBRD countries)',\n",
    "    'Europe & Central Asia (excluding high income)', 'European Union',\n",
    "    'Heavily indebted poor countries (HIPC)', 'High income', 'IBRD only', 'IDA only',\n",
    "    'IDA & IBRD total', 'Late-demographic dividend', 'Latin America & Caribbean',\n",
    "    'Latin America & Caribbean (excluding high income)',\n",
    "    'Latin America & the Caribbean (IDA & IBRD countries)',\n",
    "    'Least developed countries: UN classification', 'Low & middle income',\n",
    "    'Low income', 'Lower middle income', 'Middle East & North Africa',\n",
    "    'Middle East & North Africa (IDA & IBRD countries)',\n",
    "    'Middle East & North Africa (excluding high income)', 'Middle income',\n",
    "    'North America', 'OECD members', 'Pacific island small states',\n",
    "    'Post-demographic dividend', 'Pre-demographic dividend', 'South Asia',\n",
    "    'South Asia (IDA & IBRD)', 'Sub-Saharan Africa',\n",
    "    'Sub-Saharan Africa (IDA & IBRD countries)',\n",
    "    'Sub-Saharan Africa (excluding high income)', 'Upper middle income', 'World',\n",
    "    'Fragile and conflict affected situations'\n",
    "]\n",
    "\n",
    "df_filtered = df[~df['country_name'].isin(removed_countries)]\n",
    "\n",
    "# Save the filtered DataFrame to a new CSV file\n",
    "df_filtered.to_csv('cleaned_co2_data.csv', index=False)\n",
    "\n"
   ]
  }
 ],
 "metadata": {
  "kernelspec": {
   "display_name": "venv",
   "language": "python",
   "name": "python3"
  },
  "language_info": {
   "codemirror_mode": {
    "name": "ipython",
    "version": 3
   },
   "file_extension": ".py",
   "mimetype": "text/x-python",
   "name": "python",
   "nbconvert_exporter": "python",
   "pygments_lexer": "ipython3",
   "version": "3.12.5"
  }
 },
 "nbformat": 4,
 "nbformat_minor": 5
}
