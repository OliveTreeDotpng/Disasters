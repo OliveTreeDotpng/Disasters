{
 "cells": [
  {
   "cell_type": "code",
   "execution_count": 1,
   "id": "738c446f",
   "metadata": {},
   "outputs": [],
   "source": [
    "# This code cell cleans a CSV file containing disaster data and filters it to include only climate-related disasters.\n",
    "import pandas as pd\n",
    "\n",
    "# Read the CSV file into a DataFrame\n",
    "df = pd.read_csv(\"disasters.csv\")\n",
    "\n",
    "# Filter the DataFrame to include only rows where the 'Disaster Type' is 'Flood'\n",
    "df = df[[\"Year\", \"Country\", \"Disaster Type\"]]\n",
    "\n",
    "# Remove rows with missing values in the 'Year' or 'Country' columns\n",
    "df = df.dropna()\n",
    "\n",
    "# Filter out only the disaster related to climate change\n",
    "climmate_disasters = [\n",
    "    \"Flood\",\n",
    "    \"Drought\",\n",
    "    \"Extreme Temperature\",\n",
    "    \"Glacial Lake Outburst Flood\",\n",
    "    \"Landslide\",\n",
    "    \"Storm\"\n",
    "]\n",
    "\n",
    "# Filter the DataFrame to include only rows where the 'Disaster Type' is in the list of climate disasters\n",
    "df = df[df[\"Disaster Type\"].isin(climmate_disasters)]\n",
    "\n",
    "# Filter out years after 2019\n",
    "df = df[df[\"Year\"] <= 2019]\n",
    "\n",
    "# Save to a new file\n",
    "df.to_csv(\"cleaned_climate_disasters.csv\", index=False)\n",
    "\n",
    "\n"
   ]
  }
 ],
 "metadata": {
  "kernelspec": {
   "display_name": "Python 3",
   "language": "python",
   "name": "python3"
  },
  "language_info": {
   "codemirror_mode": {
    "name": "ipython",
    "version": 3
   },
   "file_extension": ".py",
   "mimetype": "text/x-python",
   "name": "python",
   "nbconvert_exporter": "python",
   "pygments_lexer": "ipython3",
   "version": "3.13.1"
  }
 },
 "nbformat": 4,
 "nbformat_minor": 5
}
